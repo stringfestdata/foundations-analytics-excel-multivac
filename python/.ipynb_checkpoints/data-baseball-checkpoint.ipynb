{
 "cells": [
  {
   "cell_type": "markdown",
   "id": "4e9eed7f",
   "metadata": {},
   "source": [
    "# Warning!\n",
    "![Warning](images/learner-discretion-advised.png)"
   ]
  },
  {
   "cell_type": "markdown",
   "id": "8e683026",
   "metadata": {},
   "source": [
    "<img src=\"images/1st-base.png\"\n",
    "     width=\"50%\"/>"
   ]
  },
  {
   "cell_type": "markdown",
   "id": "49635be4",
   "metadata": {},
   "source": [
    "## Read from a database\n",
    "\n",
    "- Python as the \"glue that binds\" (_interoperability_)\n",
    "- Work programatically with _metadata_ "
   ]
  },
  {
   "cell_type": "code",
   "execution_count": 1,
   "id": "18a5cd92",
   "metadata": {},
   "outputs": [],
   "source": [
    "# There's a package for that!\n",
    "import sqlite3\n",
    "import pandas as pd\n",
    "import seaborn as sns\n",
    "import os"
   ]
  },
  {
   "cell_type": "code",
   "execution_count": 2,
   "id": "a05c7fb9",
   "metadata": {},
   "outputs": [
    {
     "data": {
      "text/plain": [
       "True"
      ]
     },
     "execution_count": 2,
     "metadata": {},
     "output_type": "execute_result"
    }
   ],
   "source": [
    "# Is this a file?\n",
    "os.path.isfile('lahman.sqlite')"
   ]
  },
  {
   "cell_type": "code",
   "execution_count": 3,
   "id": "10067a69",
   "metadata": {},
   "outputs": [],
   "source": [
    "# Connect to the database\n",
    "con = sqlite3.connect('lahman.sqlite')"
   ]
  },
  {
   "cell_type": "code",
   "execution_count": 4,
   "id": "e305ea53",
   "metadata": {},
   "outputs": [],
   "source": [
    "# Write tables out to a DataFrame\n",
    "table_query = \"SELECT name FROM sqlite_master WHERE type='table';\""
   ]
  },
  {
   "cell_type": "markdown",
   "id": "05cea4e6",
   "metadata": {},
   "source": [
    "Want a static list of all tables in a database? \n",
    "Good luck doing this with a BI tool!"
   ]
  },
  {
   "cell_type": "code",
   "execution_count": 5,
   "id": "1c01400d",
   "metadata": {},
   "outputs": [
    {
     "data": {
      "text/html": [
       "<div>\n",
       "<style scoped>\n",
       "    .dataframe tbody tr th:only-of-type {\n",
       "        vertical-align: middle;\n",
       "    }\n",
       "\n",
       "    .dataframe tbody tr th {\n",
       "        vertical-align: top;\n",
       "    }\n",
       "\n",
       "    .dataframe thead th {\n",
       "        text-align: right;\n",
       "    }\n",
       "</style>\n",
       "<table border=\"1\" class=\"dataframe\">\n",
       "  <thead>\n",
       "    <tr style=\"text-align: right;\">\n",
       "      <th></th>\n",
       "      <th>name</th>\n",
       "    </tr>\n",
       "  </thead>\n",
       "  <tbody>\n",
       "    <tr>\n",
       "      <th>0</th>\n",
       "      <td>allstarfull</td>\n",
       "    </tr>\n",
       "    <tr>\n",
       "      <th>1</th>\n",
       "      <td>appearances</td>\n",
       "    </tr>\n",
       "    <tr>\n",
       "      <th>2</th>\n",
       "      <td>awardsmanagers</td>\n",
       "    </tr>\n",
       "    <tr>\n",
       "      <th>3</th>\n",
       "      <td>awardsplayers</td>\n",
       "    </tr>\n",
       "    <tr>\n",
       "      <th>4</th>\n",
       "      <td>awardssharemanagers</td>\n",
       "    </tr>\n",
       "  </tbody>\n",
       "</table>\n",
       "</div>"
      ],
      "text/plain": [
       "                  name\n",
       "0          allstarfull\n",
       "1          appearances\n",
       "2       awardsmanagers\n",
       "3        awardsplayers\n",
       "4  awardssharemanagers"
      ]
     },
     "execution_count": 5,
     "metadata": {},
     "output_type": "execute_result"
    }
   ],
   "source": [
    "list_tables = pd.read_sql_query(table_query, con)\n",
    "list_tables.head()"
   ]
  },
  {
   "cell_type": "markdown",
   "id": "5cf2f8c7",
   "metadata": {},
   "source": [
    "The `salaries` table is one that we'll need to perform our analysis.\n",
    "\n",
    "\n",
    "We will use basic SQL to communicate with the database. "
   ]
  },
  {
   "cell_type": "code",
   "execution_count": 6,
   "id": "92c5ef5f",
   "metadata": {},
   "outputs": [
    {
     "data": {
      "text/html": [
       "<div>\n",
       "<style scoped>\n",
       "    .dataframe tbody tr th:only-of-type {\n",
       "        vertical-align: middle;\n",
       "    }\n",
       "\n",
       "    .dataframe tbody tr th {\n",
       "        vertical-align: top;\n",
       "    }\n",
       "\n",
       "    .dataframe thead th {\n",
       "        text-align: right;\n",
       "    }\n",
       "</style>\n",
       "<table border=\"1\" class=\"dataframe\">\n",
       "  <thead>\n",
       "    <tr style=\"text-align: right;\">\n",
       "      <th></th>\n",
       "      <th>ID</th>\n",
       "      <th>yearID</th>\n",
       "      <th>teamID</th>\n",
       "      <th>team_ID</th>\n",
       "      <th>lgID</th>\n",
       "      <th>playerID</th>\n",
       "      <th>salary</th>\n",
       "    </tr>\n",
       "  </thead>\n",
       "  <tbody>\n",
       "    <tr>\n",
       "      <th>0</th>\n",
       "      <td>1</td>\n",
       "      <td>1985</td>\n",
       "      <td>ATL</td>\n",
       "      <td>1918</td>\n",
       "      <td>NL</td>\n",
       "      <td>barkele01</td>\n",
       "      <td>870000.0</td>\n",
       "    </tr>\n",
       "    <tr>\n",
       "      <th>1</th>\n",
       "      <td>2</td>\n",
       "      <td>1985</td>\n",
       "      <td>ATL</td>\n",
       "      <td>1918</td>\n",
       "      <td>NL</td>\n",
       "      <td>bedrost01</td>\n",
       "      <td>550000.0</td>\n",
       "    </tr>\n",
       "    <tr>\n",
       "      <th>2</th>\n",
       "      <td>3</td>\n",
       "      <td>1985</td>\n",
       "      <td>ATL</td>\n",
       "      <td>1918</td>\n",
       "      <td>NL</td>\n",
       "      <td>benedbr01</td>\n",
       "      <td>545000.0</td>\n",
       "    </tr>\n",
       "    <tr>\n",
       "      <th>3</th>\n",
       "      <td>4</td>\n",
       "      <td>1985</td>\n",
       "      <td>ATL</td>\n",
       "      <td>1918</td>\n",
       "      <td>NL</td>\n",
       "      <td>campri01</td>\n",
       "      <td>633333.0</td>\n",
       "    </tr>\n",
       "    <tr>\n",
       "      <th>4</th>\n",
       "      <td>5</td>\n",
       "      <td>1985</td>\n",
       "      <td>ATL</td>\n",
       "      <td>1918</td>\n",
       "      <td>NL</td>\n",
       "      <td>ceronri01</td>\n",
       "      <td>625000.0</td>\n",
       "    </tr>\n",
       "  </tbody>\n",
       "</table>\n",
       "</div>"
      ],
      "text/plain": [
       "   ID  yearID teamID  team_ID lgID   playerID    salary\n",
       "0   1    1985    ATL     1918   NL  barkele01  870000.0\n",
       "1   2    1985    ATL     1918   NL  bedrost01  550000.0\n",
       "2   3    1985    ATL     1918   NL  benedbr01  545000.0\n",
       "3   4    1985    ATL     1918   NL   campri01  633333.0\n",
       "4   5    1985    ATL     1918   NL  ceronri01  625000.0"
      ]
     },
     "execution_count": 6,
     "metadata": {},
     "output_type": "execute_result"
    }
   ],
   "source": [
    "salary_query = 'SELECT * FROM salaries;'\n",
    "salaries = pd.read_sql_query(salary_query, con)\n",
    "salaries.head()"
   ]
  },
  {
   "cell_type": "markdown",
   "id": "44cf22e6",
   "metadata": {},
   "source": [
    "This is good information, but who **are** the players and teams? It's hard to know based solely on the unique IDs.\n",
    "\n",
    "That information can be found in _other_ tables of the database:\n",
    "\n",
    "\n",
    "<img src=\"images/lookups.png\"\n",
    "     width=\"40%\"/>\n",
    "\n",
    "\n",
    "Let's read those in now..."
   ]
  },
  {
   "cell_type": "code",
   "execution_count": 7,
   "id": "0136302b",
   "metadata": {},
   "outputs": [
    {
     "data": {
      "text/html": [
       "<div>\n",
       "<style scoped>\n",
       "    .dataframe tbody tr th:only-of-type {\n",
       "        vertical-align: middle;\n",
       "    }\n",
       "\n",
       "    .dataframe tbody tr th {\n",
       "        vertical-align: top;\n",
       "    }\n",
       "\n",
       "    .dataframe thead th {\n",
       "        text-align: right;\n",
       "    }\n",
       "</style>\n",
       "<table border=\"1\" class=\"dataframe\">\n",
       "  <thead>\n",
       "    <tr style=\"text-align: right;\">\n",
       "      <th></th>\n",
       "      <th>ID</th>\n",
       "      <th>yearID</th>\n",
       "      <th>lgID</th>\n",
       "      <th>teamID</th>\n",
       "      <th>franchID</th>\n",
       "      <th>divID</th>\n",
       "      <th>div_ID</th>\n",
       "      <th>teamRank</th>\n",
       "      <th>G</th>\n",
       "      <th>Ghome</th>\n",
       "      <th>...</th>\n",
       "      <th>DP</th>\n",
       "      <th>FP</th>\n",
       "      <th>name</th>\n",
       "      <th>park</th>\n",
       "      <th>attendance</th>\n",
       "      <th>BPF</th>\n",
       "      <th>PPF</th>\n",
       "      <th>teamIDBR</th>\n",
       "      <th>teamIDlahman45</th>\n",
       "      <th>teamIDretro</th>\n",
       "    </tr>\n",
       "  </thead>\n",
       "  <tbody>\n",
       "    <tr>\n",
       "      <th>0</th>\n",
       "      <td>1</td>\n",
       "      <td>1871</td>\n",
       "      <td>NA</td>\n",
       "      <td>BS1</td>\n",
       "      <td>BNA</td>\n",
       "      <td>None</td>\n",
       "      <td>NaN</td>\n",
       "      <td>3</td>\n",
       "      <td>31</td>\n",
       "      <td>NaN</td>\n",
       "      <td>...</td>\n",
       "      <td>24</td>\n",
       "      <td>0.834</td>\n",
       "      <td>Boston Red Stockings</td>\n",
       "      <td>South End Grounds I</td>\n",
       "      <td>NaN</td>\n",
       "      <td>103</td>\n",
       "      <td>98</td>\n",
       "      <td>BOS</td>\n",
       "      <td>BS1</td>\n",
       "      <td>BS1</td>\n",
       "    </tr>\n",
       "    <tr>\n",
       "      <th>1</th>\n",
       "      <td>2</td>\n",
       "      <td>1871</td>\n",
       "      <td>NA</td>\n",
       "      <td>CH1</td>\n",
       "      <td>CNA</td>\n",
       "      <td>None</td>\n",
       "      <td>NaN</td>\n",
       "      <td>2</td>\n",
       "      <td>28</td>\n",
       "      <td>NaN</td>\n",
       "      <td>...</td>\n",
       "      <td>16</td>\n",
       "      <td>0.829</td>\n",
       "      <td>Chicago White Stockings</td>\n",
       "      <td>Union Base-Ball Grounds</td>\n",
       "      <td>NaN</td>\n",
       "      <td>104</td>\n",
       "      <td>102</td>\n",
       "      <td>CHI</td>\n",
       "      <td>CH1</td>\n",
       "      <td>CH1</td>\n",
       "    </tr>\n",
       "    <tr>\n",
       "      <th>2</th>\n",
       "      <td>3</td>\n",
       "      <td>1871</td>\n",
       "      <td>NA</td>\n",
       "      <td>CL1</td>\n",
       "      <td>CFC</td>\n",
       "      <td>None</td>\n",
       "      <td>NaN</td>\n",
       "      <td>8</td>\n",
       "      <td>29</td>\n",
       "      <td>NaN</td>\n",
       "      <td>...</td>\n",
       "      <td>15</td>\n",
       "      <td>0.818</td>\n",
       "      <td>Cleveland Forest Citys</td>\n",
       "      <td>National Association Grounds</td>\n",
       "      <td>NaN</td>\n",
       "      <td>96</td>\n",
       "      <td>100</td>\n",
       "      <td>CLE</td>\n",
       "      <td>CL1</td>\n",
       "      <td>CL1</td>\n",
       "    </tr>\n",
       "    <tr>\n",
       "      <th>3</th>\n",
       "      <td>4</td>\n",
       "      <td>1871</td>\n",
       "      <td>NA</td>\n",
       "      <td>FW1</td>\n",
       "      <td>KEK</td>\n",
       "      <td>None</td>\n",
       "      <td>NaN</td>\n",
       "      <td>7</td>\n",
       "      <td>19</td>\n",
       "      <td>NaN</td>\n",
       "      <td>...</td>\n",
       "      <td>8</td>\n",
       "      <td>0.803</td>\n",
       "      <td>Fort Wayne Kekiongas</td>\n",
       "      <td>Hamilton Field</td>\n",
       "      <td>NaN</td>\n",
       "      <td>101</td>\n",
       "      <td>107</td>\n",
       "      <td>KEK</td>\n",
       "      <td>FW1</td>\n",
       "      <td>FW1</td>\n",
       "    </tr>\n",
       "    <tr>\n",
       "      <th>4</th>\n",
       "      <td>5</td>\n",
       "      <td>1871</td>\n",
       "      <td>NA</td>\n",
       "      <td>NY2</td>\n",
       "      <td>NNA</td>\n",
       "      <td>None</td>\n",
       "      <td>NaN</td>\n",
       "      <td>5</td>\n",
       "      <td>33</td>\n",
       "      <td>NaN</td>\n",
       "      <td>...</td>\n",
       "      <td>14</td>\n",
       "      <td>0.840</td>\n",
       "      <td>New York Mutuals</td>\n",
       "      <td>Union Grounds (Brooklyn)</td>\n",
       "      <td>NaN</td>\n",
       "      <td>90</td>\n",
       "      <td>88</td>\n",
       "      <td>NYU</td>\n",
       "      <td>NY2</td>\n",
       "      <td>NY2</td>\n",
       "    </tr>\n",
       "  </tbody>\n",
       "</table>\n",
       "<p>5 rows × 50 columns</p>\n",
       "</div>"
      ],
      "text/plain": [
       "   ID  yearID lgID teamID franchID divID  div_ID  teamRank   G  Ghome  ...  \\\n",
       "0   1    1871   NA    BS1      BNA  None     NaN         3  31    NaN  ...   \n",
       "1   2    1871   NA    CH1      CNA  None     NaN         2  28    NaN  ...   \n",
       "2   3    1871   NA    CL1      CFC  None     NaN         8  29    NaN  ...   \n",
       "3   4    1871   NA    FW1      KEK  None     NaN         7  19    NaN  ...   \n",
       "4   5    1871   NA    NY2      NNA  None     NaN         5  33    NaN  ...   \n",
       "\n",
       "   DP     FP                     name                          park  \\\n",
       "0  24  0.834     Boston Red Stockings           South End Grounds I   \n",
       "1  16  0.829  Chicago White Stockings       Union Base-Ball Grounds   \n",
       "2  15  0.818   Cleveland Forest Citys  National Association Grounds   \n",
       "3   8  0.803     Fort Wayne Kekiongas                Hamilton Field   \n",
       "4  14  0.840         New York Mutuals      Union Grounds (Brooklyn)   \n",
       "\n",
       "  attendance  BPF  PPF  teamIDBR  teamIDlahman45  teamIDretro  \n",
       "0        NaN  103   98       BOS             BS1          BS1  \n",
       "1        NaN  104  102       CHI             CH1          CH1  \n",
       "2        NaN   96  100       CLE             CL1          CL1  \n",
       "3        NaN  101  107       KEK             FW1          FW1  \n",
       "4        NaN   90   88       NYU             NY2          NY2  \n",
       "\n",
       "[5 rows x 50 columns]"
      ]
     },
     "execution_count": 7,
     "metadata": {},
     "output_type": "execute_result"
    }
   ],
   "source": [
    "# Read in teams table\n",
    "teams_query = 'SELECT * FROM teams;'\n",
    "teams = pd.read_sql_query(teams_query, con)\n",
    "teams.head()"
   ]
  },
  {
   "cell_type": "code",
   "execution_count": 8,
   "id": "f3553187",
   "metadata": {},
   "outputs": [
    {
     "data": {
      "text/html": [
       "<div>\n",
       "<style scoped>\n",
       "    .dataframe tbody tr th:only-of-type {\n",
       "        vertical-align: middle;\n",
       "    }\n",
       "\n",
       "    .dataframe tbody tr th {\n",
       "        vertical-align: top;\n",
       "    }\n",
       "\n",
       "    .dataframe thead th {\n",
       "        text-align: right;\n",
       "    }\n",
       "</style>\n",
       "<table border=\"1\" class=\"dataframe\">\n",
       "  <thead>\n",
       "    <tr style=\"text-align: right;\">\n",
       "      <th></th>\n",
       "      <th>playerID</th>\n",
       "      <th>birthYear</th>\n",
       "      <th>birthMonth</th>\n",
       "      <th>birthDay</th>\n",
       "      <th>birthCountry</th>\n",
       "      <th>birthState</th>\n",
       "      <th>birthCity</th>\n",
       "      <th>deathYear</th>\n",
       "      <th>deathMonth</th>\n",
       "      <th>deathDay</th>\n",
       "      <th>...</th>\n",
       "      <th>bats</th>\n",
       "      <th>throws</th>\n",
       "      <th>debut</th>\n",
       "      <th>finalGame</th>\n",
       "      <th>retroID</th>\n",
       "      <th>bbrefID</th>\n",
       "      <th>birth_date</th>\n",
       "      <th>debut_date</th>\n",
       "      <th>finalgame_date</th>\n",
       "      <th>death_date</th>\n",
       "    </tr>\n",
       "  </thead>\n",
       "  <tbody>\n",
       "    <tr>\n",
       "      <th>0</th>\n",
       "      <td>aardsda01</td>\n",
       "      <td>1981.0</td>\n",
       "      <td>12.0</td>\n",
       "      <td>27.0</td>\n",
       "      <td>USA</td>\n",
       "      <td>CO</td>\n",
       "      <td>Denver</td>\n",
       "      <td>NaN</td>\n",
       "      <td>NaN</td>\n",
       "      <td>NaN</td>\n",
       "      <td>...</td>\n",
       "      <td>R</td>\n",
       "      <td>R</td>\n",
       "      <td>2004-04-06</td>\n",
       "      <td>2015-08-23</td>\n",
       "      <td>aardd001</td>\n",
       "      <td>aardsda01</td>\n",
       "      <td>1981-12-27</td>\n",
       "      <td>2004-04-06</td>\n",
       "      <td>2015-08-23</td>\n",
       "      <td>None</td>\n",
       "    </tr>\n",
       "    <tr>\n",
       "      <th>1</th>\n",
       "      <td>aaronha01</td>\n",
       "      <td>1934.0</td>\n",
       "      <td>2.0</td>\n",
       "      <td>5.0</td>\n",
       "      <td>USA</td>\n",
       "      <td>AL</td>\n",
       "      <td>Mobile</td>\n",
       "      <td>NaN</td>\n",
       "      <td>NaN</td>\n",
       "      <td>NaN</td>\n",
       "      <td>...</td>\n",
       "      <td>R</td>\n",
       "      <td>R</td>\n",
       "      <td>1954-04-13</td>\n",
       "      <td>1976-10-03</td>\n",
       "      <td>aaroh101</td>\n",
       "      <td>aaronha01</td>\n",
       "      <td>1934-02-05</td>\n",
       "      <td>1954-04-13</td>\n",
       "      <td>1976-10-03</td>\n",
       "      <td>None</td>\n",
       "    </tr>\n",
       "    <tr>\n",
       "      <th>2</th>\n",
       "      <td>aaronto01</td>\n",
       "      <td>1939.0</td>\n",
       "      <td>8.0</td>\n",
       "      <td>5.0</td>\n",
       "      <td>USA</td>\n",
       "      <td>AL</td>\n",
       "      <td>Mobile</td>\n",
       "      <td>1984.0</td>\n",
       "      <td>8.0</td>\n",
       "      <td>16.0</td>\n",
       "      <td>...</td>\n",
       "      <td>R</td>\n",
       "      <td>R</td>\n",
       "      <td>1962-04-10</td>\n",
       "      <td>1971-09-26</td>\n",
       "      <td>aarot101</td>\n",
       "      <td>aaronto01</td>\n",
       "      <td>1939-08-05</td>\n",
       "      <td>1962-04-10</td>\n",
       "      <td>1971-09-26</td>\n",
       "      <td>1984-08-16</td>\n",
       "    </tr>\n",
       "    <tr>\n",
       "      <th>3</th>\n",
       "      <td>aasedo01</td>\n",
       "      <td>1954.0</td>\n",
       "      <td>9.0</td>\n",
       "      <td>8.0</td>\n",
       "      <td>USA</td>\n",
       "      <td>CA</td>\n",
       "      <td>Orange</td>\n",
       "      <td>NaN</td>\n",
       "      <td>NaN</td>\n",
       "      <td>NaN</td>\n",
       "      <td>...</td>\n",
       "      <td>R</td>\n",
       "      <td>R</td>\n",
       "      <td>1977-07-26</td>\n",
       "      <td>1990-10-03</td>\n",
       "      <td>aased001</td>\n",
       "      <td>aasedo01</td>\n",
       "      <td>1954-09-08</td>\n",
       "      <td>1977-07-26</td>\n",
       "      <td>1990-10-03</td>\n",
       "      <td>None</td>\n",
       "    </tr>\n",
       "    <tr>\n",
       "      <th>4</th>\n",
       "      <td>abadan01</td>\n",
       "      <td>1972.0</td>\n",
       "      <td>8.0</td>\n",
       "      <td>25.0</td>\n",
       "      <td>USA</td>\n",
       "      <td>FL</td>\n",
       "      <td>Palm Beach</td>\n",
       "      <td>NaN</td>\n",
       "      <td>NaN</td>\n",
       "      <td>NaN</td>\n",
       "      <td>...</td>\n",
       "      <td>L</td>\n",
       "      <td>L</td>\n",
       "      <td>2001-09-10</td>\n",
       "      <td>2006-04-13</td>\n",
       "      <td>abada001</td>\n",
       "      <td>abadan01</td>\n",
       "      <td>1972-08-25</td>\n",
       "      <td>2001-09-10</td>\n",
       "      <td>2006-04-13</td>\n",
       "      <td>None</td>\n",
       "    </tr>\n",
       "  </tbody>\n",
       "</table>\n",
       "<p>5 rows × 28 columns</p>\n",
       "</div>"
      ],
      "text/plain": [
       "    playerID  birthYear  birthMonth  birthDay birthCountry birthState  \\\n",
       "0  aardsda01     1981.0        12.0      27.0          USA         CO   \n",
       "1  aaronha01     1934.0         2.0       5.0          USA         AL   \n",
       "2  aaronto01     1939.0         8.0       5.0          USA         AL   \n",
       "3   aasedo01     1954.0         9.0       8.0          USA         CA   \n",
       "4   abadan01     1972.0         8.0      25.0          USA         FL   \n",
       "\n",
       "    birthCity  deathYear  deathMonth  deathDay  ... bats throws       debut  \\\n",
       "0      Denver        NaN         NaN       NaN  ...    R      R  2004-04-06   \n",
       "1      Mobile        NaN         NaN       NaN  ...    R      R  1954-04-13   \n",
       "2      Mobile     1984.0         8.0      16.0  ...    R      R  1962-04-10   \n",
       "3      Orange        NaN         NaN       NaN  ...    R      R  1977-07-26   \n",
       "4  Palm Beach        NaN         NaN       NaN  ...    L      L  2001-09-10   \n",
       "\n",
       "    finalGame   retroID    bbrefID  birth_date  debut_date finalgame_date  \\\n",
       "0  2015-08-23  aardd001  aardsda01  1981-12-27  2004-04-06     2015-08-23   \n",
       "1  1976-10-03  aaroh101  aaronha01  1934-02-05  1954-04-13     1976-10-03   \n",
       "2  1971-09-26  aarot101  aaronto01  1939-08-05  1962-04-10     1971-09-26   \n",
       "3  1990-10-03  aased001   aasedo01  1954-09-08  1977-07-26     1990-10-03   \n",
       "4  2006-04-13  abada001   abadan01  1972-08-25  2001-09-10     2006-04-13   \n",
       "\n",
       "   death_date  \n",
       "0        None  \n",
       "1        None  \n",
       "2  1984-08-16  \n",
       "3        None  \n",
       "4        None  \n",
       "\n",
       "[5 rows x 28 columns]"
      ]
     },
     "execution_count": 8,
     "metadata": {},
     "output_type": "execute_result"
    }
   ],
   "source": [
    "# Read in people table\n",
    "people_query = 'SELECT * FROM people;'\n",
    "people = pd.read_sql_query(people_query, con)\n",
    "people.head()"
   ]
  },
  {
   "cell_type": "markdown",
   "id": "804b1bff",
   "metadata": {
    "scrolled": true
   },
   "source": [
    "## Questions about importing data?\n",
    "\n",
    "Now let's move to profiling..."
   ]
  },
  {
   "cell_type": "markdown",
   "id": "e47857df",
   "metadata": {},
   "source": [
    "<img src=\"images/2nd-base.png\"\n",
    "     width=\"50%\"/>"
   ]
  },
  {
   "cell_type": "markdown",
   "id": "161bff60",
   "metadata": {},
   "source": [
    "- What kinds of questions can we answer with the data?\n",
    "- What needs to be done to answer those questions? (3rd Base)\n",
    "\n",
    "Profiling can lead naturally into analysis..."
   ]
  },
  {
   "cell_type": "code",
   "execution_count": 9,
   "id": "8fdcd29b",
   "metadata": {},
   "outputs": [
    {
     "name": "stdout",
     "output_type": "stream",
     "text": [
      "<class 'pandas.core.frame.DataFrame'>\n",
      "RangeIndex: 19878 entries, 0 to 19877\n",
      "Data columns (total 28 columns):\n",
      " #   Column          Non-Null Count  Dtype  \n",
      "---  ------          --------------  -----  \n",
      " 0   playerID        19878 non-null  object \n",
      " 1   birthYear       19763 non-null  float64\n",
      " 2   birthMonth      19594 non-null  float64\n",
      " 3   birthDay        19452 non-null  float64\n",
      " 4   birthCountry    19816 non-null  object \n",
      " 5   birthState      19340 non-null  object \n",
      " 6   birthCity       19704 non-null  object \n",
      " 7   deathYear       9757 non-null   float64\n",
      " 8   deathMonth      9756 non-null   float64\n",
      " 9   deathDay        9755 non-null   float64\n",
      " 10  deathCountry    9755 non-null   object \n",
      " 11  deathState      9706 non-null   object \n",
      " 12  deathCity       9750 non-null   object \n",
      " 13  nameFirst       19841 non-null  object \n",
      " 14  nameLast        19878 non-null  object \n",
      " 15  nameGiven       19841 non-null  object \n",
      " 16  weight          19060 non-null  float64\n",
      " 17  height          19141 non-null  float64\n",
      " 18  bats            18695 non-null  object \n",
      " 19  throws          18901 non-null  object \n",
      " 20  debut           19682 non-null  object \n",
      " 21  finalGame       19682 non-null  object \n",
      " 22  retroID         19822 non-null  object \n",
      " 23  bbrefID         19876 non-null  object \n",
      " 24  birth_date      19452 non-null  object \n",
      " 25  debut_date      19682 non-null  object \n",
      " 26  finalgame_date  19682 non-null  object \n",
      " 27  death_date      9755 non-null   object \n",
      "dtypes: float64(8), object(20)\n",
      "memory usage: 4.2+ MB\n"
     ]
    }
   ],
   "source": [
    "# Why do some of these columns have more nulls than others? \n",
    "people.info()"
   ]
  },
  {
   "cell_type": "code",
   "execution_count": 10,
   "id": "4b9b8110",
   "metadata": {},
   "outputs": [
    {
     "data": {
      "text/plain": [
       "deathState        0.511722\n",
       "deathCity         0.509508\n",
       "death_date        0.509256\n",
       "deathDay          0.509256\n",
       "deathCountry      0.509256\n",
       "deathMonth        0.509206\n",
       "deathYear         0.509156\n",
       "bats              0.059513\n",
       "throws            0.049150\n",
       "weight            0.041151\n",
       "height            0.037076\n",
       "birthState        0.027065\n",
       "birth_date        0.021431\n",
       "birthDay          0.021431\n",
       "birthMonth        0.014287\n",
       "finalGame         0.009860\n",
       "debut             0.009860\n",
       "debut_date        0.009860\n",
       "finalgame_date    0.009860\n",
       "birthCity         0.008753\n",
       "birthYear         0.005785\n",
       "birthCountry      0.003119\n",
       "retroID           0.002817\n",
       "nameGiven         0.001861\n",
       "nameFirst         0.001861\n",
       "bbrefID           0.000101\n",
       "playerID          0.000000\n",
       "nameLast          0.000000\n",
       "dtype: float64"
      ]
     },
     "execution_count": 10,
     "metadata": {},
     "output_type": "execute_result"
    }
   ],
   "source": [
    "# What percent of each column are missing?\n",
    "people.isnull().mean().sort_values(ascending=False)"
   ]
  },
  {
   "cell_type": "code",
   "execution_count": 11,
   "id": "e6e6c821",
   "metadata": {},
   "outputs": [
    {
     "data": {
      "text/html": [
       "<div>\n",
       "<style scoped>\n",
       "    .dataframe tbody tr th:only-of-type {\n",
       "        vertical-align: middle;\n",
       "    }\n",
       "\n",
       "    .dataframe tbody tr th {\n",
       "        vertical-align: top;\n",
       "    }\n",
       "\n",
       "    .dataframe thead th {\n",
       "        text-align: right;\n",
       "    }\n",
       "</style>\n",
       "<table border=\"1\" class=\"dataframe\">\n",
       "  <thead>\n",
       "    <tr style=\"text-align: right;\">\n",
       "      <th></th>\n",
       "      <th>birthYear</th>\n",
       "      <th>birthMonth</th>\n",
       "      <th>birthDay</th>\n",
       "      <th>deathYear</th>\n",
       "      <th>deathMonth</th>\n",
       "      <th>deathDay</th>\n",
       "      <th>weight</th>\n",
       "      <th>height</th>\n",
       "    </tr>\n",
       "  </thead>\n",
       "  <tbody>\n",
       "    <tr>\n",
       "      <th>count</th>\n",
       "      <td>19763.000000</td>\n",
       "      <td>19594.000000</td>\n",
       "      <td>19452.000000</td>\n",
       "      <td>9757.000000</td>\n",
       "      <td>9756.000000</td>\n",
       "      <td>9755.000000</td>\n",
       "      <td>19060.000000</td>\n",
       "      <td>19141.000000</td>\n",
       "    </tr>\n",
       "    <tr>\n",
       "      <th>mean</th>\n",
       "      <td>1933.768304</td>\n",
       "      <td>6.627080</td>\n",
       "      <td>15.630681</td>\n",
       "      <td>1965.759250</td>\n",
       "      <td>6.491287</td>\n",
       "      <td>15.540543</td>\n",
       "      <td>187.167104</td>\n",
       "      <td>72.326629</td>\n",
       "    </tr>\n",
       "    <tr>\n",
       "      <th>std</th>\n",
       "      <td>42.485357</td>\n",
       "      <td>3.466562</td>\n",
       "      <td>8.757199</td>\n",
       "      <td>32.678973</td>\n",
       "      <td>3.532180</td>\n",
       "      <td>8.779454</td>\n",
       "      <td>21.944565</td>\n",
       "      <td>2.612004</td>\n",
       "    </tr>\n",
       "    <tr>\n",
       "      <th>min</th>\n",
       "      <td>1820.000000</td>\n",
       "      <td>1.000000</td>\n",
       "      <td>1.000000</td>\n",
       "      <td>1872.000000</td>\n",
       "      <td>1.000000</td>\n",
       "      <td>1.000000</td>\n",
       "      <td>65.000000</td>\n",
       "      <td>43.000000</td>\n",
       "    </tr>\n",
       "    <tr>\n",
       "      <th>25%</th>\n",
       "      <td>1896.000000</td>\n",
       "      <td>4.000000</td>\n",
       "      <td>8.000000</td>\n",
       "      <td>1943.000000</td>\n",
       "      <td>3.000000</td>\n",
       "      <td>8.000000</td>\n",
       "      <td>170.000000</td>\n",
       "      <td>71.000000</td>\n",
       "    </tr>\n",
       "    <tr>\n",
       "      <th>50%</th>\n",
       "      <td>1941.000000</td>\n",
       "      <td>7.000000</td>\n",
       "      <td>16.000000</td>\n",
       "      <td>1968.000000</td>\n",
       "      <td>6.000000</td>\n",
       "      <td>15.000000</td>\n",
       "      <td>185.000000</td>\n",
       "      <td>72.000000</td>\n",
       "    </tr>\n",
       "    <tr>\n",
       "      <th>75%</th>\n",
       "      <td>1972.000000</td>\n",
       "      <td>10.000000</td>\n",
       "      <td>23.000000</td>\n",
       "      <td>1993.000000</td>\n",
       "      <td>10.000000</td>\n",
       "      <td>23.000000</td>\n",
       "      <td>200.000000</td>\n",
       "      <td>74.000000</td>\n",
       "    </tr>\n",
       "    <tr>\n",
       "      <th>max</th>\n",
       "      <td>2000.000000</td>\n",
       "      <td>12.000000</td>\n",
       "      <td>31.000000</td>\n",
       "      <td>2020.000000</td>\n",
       "      <td>12.000000</td>\n",
       "      <td>31.000000</td>\n",
       "      <td>320.000000</td>\n",
       "      <td>83.000000</td>\n",
       "    </tr>\n",
       "  </tbody>\n",
       "</table>\n",
       "</div>"
      ],
      "text/plain": [
       "          birthYear    birthMonth      birthDay    deathYear   deathMonth  \\\n",
       "count  19763.000000  19594.000000  19452.000000  9757.000000  9756.000000   \n",
       "mean    1933.768304      6.627080     15.630681  1965.759250     6.491287   \n",
       "std       42.485357      3.466562      8.757199    32.678973     3.532180   \n",
       "min     1820.000000      1.000000      1.000000  1872.000000     1.000000   \n",
       "25%     1896.000000      4.000000      8.000000  1943.000000     3.000000   \n",
       "50%     1941.000000      7.000000     16.000000  1968.000000     6.000000   \n",
       "75%     1972.000000     10.000000     23.000000  1993.000000    10.000000   \n",
       "max     2000.000000     12.000000     31.000000  2020.000000    12.000000   \n",
       "\n",
       "          deathDay        weight        height  \n",
       "count  9755.000000  19060.000000  19141.000000  \n",
       "mean     15.540543    187.167104     72.326629  \n",
       "std       8.779454     21.944565      2.612004  \n",
       "min       1.000000     65.000000     43.000000  \n",
       "25%       8.000000    170.000000     71.000000  \n",
       "50%      15.000000    185.000000     72.000000  \n",
       "75%      23.000000    200.000000     74.000000  \n",
       "max      31.000000    320.000000     83.000000  "
      ]
     },
     "execution_count": 11,
     "metadata": {},
     "output_type": "execute_result"
    }
   ],
   "source": [
    "# Descriptive statistics\n",
    "people.describe()"
   ]
  },
  {
   "cell_type": "code",
   "execution_count": 12,
   "id": "14223c0a",
   "metadata": {},
   "outputs": [
    {
     "data": {
      "text/plain": [
       "72.3266287027846"
      ]
     },
     "execution_count": 12,
     "metadata": {},
     "output_type": "execute_result"
    }
   ],
   "source": [
    "# What is the average player height?\n",
    "people['height'].mean()"
   ]
  },
  {
   "cell_type": "code",
   "execution_count": 13,
   "id": "e246a58e",
   "metadata": {},
   "outputs": [],
   "source": [
    "# What is the earliest birthyear on file?\n",
    "\n"
   ]
  },
  {
   "cell_type": "markdown",
   "id": "adec07ff",
   "metadata": {},
   "source": [
    "### What questions do you have about the data?\n",
    "\n",
    "Let's try to answer it now!\n",
    "\n",
    "#### Don't forget dataviz"
   ]
  },
  {
   "cell_type": "markdown",
   "id": "e9939ef2",
   "metadata": {},
   "source": [
    "Data visualization is _not_ a separate or optional part of data analysis!\n",
    "\n",
    "With the `seaborn` package we can use functions to build plots, with a few arguments:\n",
    "\n",
    "`x`: What goes on the X axis?  \n",
    "`y`: What goes on the Y axis?  \n",
    "`data`: Where does the data come from?  "
   ]
  },
  {
   "cell_type": "code",
   "execution_count": 14,
   "id": "50d4a861",
   "metadata": {},
   "outputs": [
    {
     "data": {
      "text/plain": [
       "<AxesSubplot:xlabel='height', ylabel='weight'>"
      ]
     },
     "execution_count": 14,
     "metadata": {},
     "output_type": "execute_result"
    },
    {
     "data": {
      "image/png": "[encoded data removed]",
      "text/plain": [
       "<Figure size 432x288 with 1 Axes>"
      ]
     },
     "metadata": {
      "needs_background": "light"
     },
     "output_type": "display_data"
    }
   ],
   "source": [
    "# Scatterplot of height vs weight\n",
    "sns.scatterplot(x='height', y='weight', data=people)"
   ]
  },
  {
   "cell_type": "markdown",
   "id": "12481b62",
   "metadata": {},
   "source": [
    "Who are the outliers? Let's take a look...."
   ]
  },
  {
   "cell_type": "code",
   "execution_count": 15,
   "id": "1d234aae",
   "metadata": {},
   "outputs": [
    {
     "data": {
      "text/html": [
       "<div>\n",
       "<style scoped>\n",
       "    .dataframe tbody tr th:only-of-type {\n",
       "        vertical-align: middle;\n",
       "    }\n",
       "\n",
       "    .dataframe tbody tr th {\n",
       "        vertical-align: top;\n",
       "    }\n",
       "\n",
       "    .dataframe thead th {\n",
       "        text-align: right;\n",
       "    }\n",
       "</style>\n",
       "<table border=\"1\" class=\"dataframe\">\n",
       "  <thead>\n",
       "    <tr style=\"text-align: right;\">\n",
       "      <th></th>\n",
       "      <th>playerID</th>\n",
       "      <th>birthYear</th>\n",
       "      <th>birthMonth</th>\n",
       "      <th>birthDay</th>\n",
       "      <th>birthCountry</th>\n",
       "      <th>birthState</th>\n",
       "      <th>birthCity</th>\n",
       "      <th>deathYear</th>\n",
       "      <th>deathMonth</th>\n",
       "      <th>deathDay</th>\n",
       "      <th>...</th>\n",
       "      <th>bats</th>\n",
       "      <th>throws</th>\n",
       "      <th>debut</th>\n",
       "      <th>finalGame</th>\n",
       "      <th>retroID</th>\n",
       "      <th>bbrefID</th>\n",
       "      <th>birth_date</th>\n",
       "      <th>debut_date</th>\n",
       "      <th>finalgame_date</th>\n",
       "      <th>death_date</th>\n",
       "    </tr>\n",
       "  </thead>\n",
       "  <tbody>\n",
       "    <tr>\n",
       "      <th>6065</th>\n",
       "      <td>gaedeed01</td>\n",
       "      <td>1925.0</td>\n",
       "      <td>6.0</td>\n",
       "      <td>8.0</td>\n",
       "      <td>USA</td>\n",
       "      <td>IL</td>\n",
       "      <td>Chicago</td>\n",
       "      <td>1961.0</td>\n",
       "      <td>6.0</td>\n",
       "      <td>18.0</td>\n",
       "      <td>...</td>\n",
       "      <td>R</td>\n",
       "      <td>L</td>\n",
       "      <td>1951-08-19</td>\n",
       "      <td>1951-08-19</td>\n",
       "      <td>gaede101</td>\n",
       "      <td>gaedeed01</td>\n",
       "      <td>1925-06-08</td>\n",
       "      <td>1951-08-19</td>\n",
       "      <td>1951-08-19</td>\n",
       "      <td>1961-06-18</td>\n",
       "    </tr>\n",
       "    <tr>\n",
       "      <th>7637</th>\n",
       "      <td>healeto01</td>\n",
       "      <td>1853.0</td>\n",
       "      <td>NaN</td>\n",
       "      <td>NaN</td>\n",
       "      <td>USA</td>\n",
       "      <td>RI</td>\n",
       "      <td>Cranston</td>\n",
       "      <td>1891.0</td>\n",
       "      <td>2.0</td>\n",
       "      <td>6.0</td>\n",
       "      <td>...</td>\n",
       "      <td>None</td>\n",
       "      <td>R</td>\n",
       "      <td>1878-06-13</td>\n",
       "      <td>1878-09-09</td>\n",
       "      <td>healt101</td>\n",
       "      <td>healeto01</td>\n",
       "      <td>None</td>\n",
       "      <td>1878-06-13</td>\n",
       "      <td>1878-09-09</td>\n",
       "      <td>1891-02-06</td>\n",
       "    </tr>\n",
       "    <tr>\n",
       "      <th>17038</th>\n",
       "      <td>stallja01</td>\n",
       "      <td>1989.0</td>\n",
       "      <td>12.0</td>\n",
       "      <td>22.0</td>\n",
       "      <td>USA</td>\n",
       "      <td>KS</td>\n",
       "      <td>Lawrence</td>\n",
       "      <td>NaN</td>\n",
       "      <td>NaN</td>\n",
       "      <td>NaN</td>\n",
       "      <td>...</td>\n",
       "      <td>R</td>\n",
       "      <td>R</td>\n",
       "      <td>2016-06-19</td>\n",
       "      <td>2019-09-29</td>\n",
       "      <td>stalj001</td>\n",
       "      <td>stallja01</td>\n",
       "      <td>1989-12-22</td>\n",
       "      <td>2016-06-19</td>\n",
       "      <td>2019-09-29</td>\n",
       "      <td>None</td>\n",
       "    </tr>\n",
       "  </tbody>\n",
       "</table>\n",
       "<p>3 rows × 28 columns</p>\n",
       "</div>"
      ],
      "text/plain": [
       "        playerID  birthYear  birthMonth  birthDay birthCountry birthState  \\\n",
       "6065   gaedeed01     1925.0         6.0       8.0          USA         IL   \n",
       "7637   healeto01     1853.0         NaN       NaN          USA         RI   \n",
       "17038  stallja01     1989.0        12.0      22.0          USA         KS   \n",
       "\n",
       "      birthCity  deathYear  deathMonth  deathDay  ...  bats throws  \\\n",
       "6065    Chicago     1961.0         6.0      18.0  ...     R      L   \n",
       "7637   Cranston     1891.0         2.0       6.0  ...  None      R   \n",
       "17038  Lawrence        NaN         NaN       NaN  ...     R      R   \n",
       "\n",
       "            debut   finalGame   retroID    bbrefID  birth_date  debut_date  \\\n",
       "6065   1951-08-19  1951-08-19  gaede101  gaedeed01  1925-06-08  1951-08-19   \n",
       "7637   1878-06-13  1878-09-09  healt101  healeto01        None  1878-06-13   \n",
       "17038  2016-06-19  2019-09-29  stalj001  stallja01  1989-12-22  2016-06-19   \n",
       "\n",
       "      finalgame_date  death_date  \n",
       "6065      1951-08-19  1961-06-18  \n",
       "7637      1878-09-09  1891-02-06  \n",
       "17038     2019-09-29        None  \n",
       "\n",
       "[3 rows x 28 columns]"
      ]
     },
     "execution_count": 15,
     "metadata": {},
     "output_type": "execute_result"
    }
   ],
   "source": [
    "people.query('(height < 60) or (weight < 100)')"
   ]
  },
  {
   "cell_type": "markdown",
   "id": "98cb5990",
   "metadata": {},
   "source": [
    "We probably don't know who these players are based on their IDs... you'll learn how to do that soon.\n",
    "\n",
    "We can make a countplot (bar chart) with the `countplot()` function..."
   ]
  },
  {
   "cell_type": "code",
   "execution_count": 16,
   "id": "0c1c0b17",
   "metadata": {},
   "outputs": [
    {
     "data": {
      "text/plain": [
       "<AxesSubplot:xlabel='bats', ylabel='count'>"
      ]
     },
     "execution_count": 16,
     "metadata": {},
     "output_type": "execute_result"
    },
    {
     "data": {
      "image/png": "[encoded data removed]",
      "text/plain": [
       "<Figure size 432x288 with 1 Axes>"
      ]
     },
     "metadata": {
      "needs_background": "light"
     },
     "output_type": "display_data"
    }
   ],
   "source": [
    "sns.countplot(x='bats', data=people)"
   ]
  },
  {
   "cell_type": "code",
   "execution_count": 17,
   "id": "5868fa45",
   "metadata": {},
   "outputs": [],
   "source": [
    "# Create a countplot of number of records by \"throws.\" \n",
    "\n"
   ]
  },
  {
   "cell_type": "markdown",
   "id": "be1b4bb2",
   "metadata": {},
   "source": [
    "Our ultimate question is whether there's a relationship between a team's payroll and its total attendance for the year. It will take some data manipulation to answer that question:\n",
    "\n",
    "1. Get the total annual sum of salaries for each team\n",
    "2. \"Look up\" the team ID's from the `teams` table\n",
    "\n",
    "These steps would look like this in Excel:\n",
    "\n",
    "\n",
    "<img src=\"images/payroll-steps.png\"\n",
    "     width=\"75%\"/>\n",
    "\n",
    "Let's do this in Python..."
   ]
  },
  {
   "cell_type": "code",
   "execution_count": 18,
   "id": "77d8f9af",
   "metadata": {},
   "outputs": [
    {
     "data": {
      "text/html": [
       "<div>\n",
       "<style scoped>\n",
       "    .dataframe tbody tr th:only-of-type {\n",
       "        vertical-align: middle;\n",
       "    }\n",
       "\n",
       "    .dataframe tbody tr th {\n",
       "        vertical-align: top;\n",
       "    }\n",
       "\n",
       "    .dataframe thead th {\n",
       "        text-align: right;\n",
       "    }\n",
       "</style>\n",
       "<table border=\"1\" class=\"dataframe\">\n",
       "  <thead>\n",
       "    <tr style=\"text-align: right;\">\n",
       "      <th></th>\n",
       "      <th>yearID</th>\n",
       "      <th>teamID</th>\n",
       "      <th>salary</th>\n",
       "    </tr>\n",
       "  </thead>\n",
       "  <tbody>\n",
       "    <tr>\n",
       "      <th>0</th>\n",
       "      <td>1985</td>\n",
       "      <td>ATL</td>\n",
       "      <td>14807000.0</td>\n",
       "    </tr>\n",
       "    <tr>\n",
       "      <th>1</th>\n",
       "      <td>1985</td>\n",
       "      <td>BAL</td>\n",
       "      <td>11560712.0</td>\n",
       "    </tr>\n",
       "    <tr>\n",
       "      <th>2</th>\n",
       "      <td>1985</td>\n",
       "      <td>BOS</td>\n",
       "      <td>10897560.0</td>\n",
       "    </tr>\n",
       "    <tr>\n",
       "      <th>3</th>\n",
       "      <td>1985</td>\n",
       "      <td>CAL</td>\n",
       "      <td>14427894.0</td>\n",
       "    </tr>\n",
       "    <tr>\n",
       "      <th>4</th>\n",
       "      <td>1985</td>\n",
       "      <td>CHA</td>\n",
       "      <td>9846178.0</td>\n",
       "    </tr>\n",
       "  </tbody>\n",
       "</table>\n",
       "</div>"
      ],
      "text/plain": [
       "   yearID teamID      salary\n",
       "0    1985    ATL  14807000.0\n",
       "1    1985    BAL  11560712.0\n",
       "2    1985    BOS  10897560.0\n",
       "3    1985    CAL  14427894.0\n",
       "4    1985    CHA   9846178.0"
      ]
     },
     "execution_count": 18,
     "metadata": {},
     "output_type": "execute_result"
    }
   ],
   "source": [
    "# Get the sum of salary for each year & team\n",
    "payroll = salaries.groupby(['yearID', 'teamID'], as_index=False)['salary'].sum()\n",
    "payroll.head()"
   ]
  },
  {
   "cell_type": "code",
   "execution_count": 19,
   "id": "852d4159",
   "metadata": {},
   "outputs": [
    {
     "data": {
      "text/plain": [
       "(2925, 50)"
      ]
     },
     "execution_count": 19,
     "metadata": {},
     "output_type": "execute_result"
    }
   ],
   "source": [
    "teams.shape"
   ]
  },
  {
   "cell_type": "markdown",
   "id": "777e47eb",
   "metadata": {},
   "source": [
    "`teams` has a *lot* of columns, so we only want some of them..."
   ]
  },
  {
   "cell_type": "code",
   "execution_count": 20,
   "id": "81d9fa14",
   "metadata": {},
   "outputs": [
    {
     "data": {
      "text/html": [
       "<div>\n",
       "<style scoped>\n",
       "    .dataframe tbody tr th:only-of-type {\n",
       "        vertical-align: middle;\n",
       "    }\n",
       "\n",
       "    .dataframe tbody tr th {\n",
       "        vertical-align: top;\n",
       "    }\n",
       "\n",
       "    .dataframe thead th {\n",
       "        text-align: right;\n",
       "    }\n",
       "</style>\n",
       "<table border=\"1\" class=\"dataframe\">\n",
       "  <thead>\n",
       "    <tr style=\"text-align: right;\">\n",
       "      <th></th>\n",
       "      <th>yearID</th>\n",
       "      <th>teamID</th>\n",
       "      <th>salary</th>\n",
       "      <th>name</th>\n",
       "      <th>attendance</th>\n",
       "      <th>W</th>\n",
       "    </tr>\n",
       "  </thead>\n",
       "  <tbody>\n",
       "    <tr>\n",
       "      <th>0</th>\n",
       "      <td>1985</td>\n",
       "      <td>ATL</td>\n",
       "      <td>14807000.0</td>\n",
       "      <td>Atlanta Braves</td>\n",
       "      <td>1350137.0</td>\n",
       "      <td>66</td>\n",
       "    </tr>\n",
       "    <tr>\n",
       "      <th>1</th>\n",
       "      <td>1985</td>\n",
       "      <td>BAL</td>\n",
       "      <td>11560712.0</td>\n",
       "      <td>Baltimore Orioles</td>\n",
       "      <td>2132387.0</td>\n",
       "      <td>83</td>\n",
       "    </tr>\n",
       "    <tr>\n",
       "      <th>2</th>\n",
       "      <td>1985</td>\n",
       "      <td>BOS</td>\n",
       "      <td>10897560.0</td>\n",
       "      <td>Boston Red Sox</td>\n",
       "      <td>1786633.0</td>\n",
       "      <td>81</td>\n",
       "    </tr>\n",
       "    <tr>\n",
       "      <th>3</th>\n",
       "      <td>1985</td>\n",
       "      <td>CAL</td>\n",
       "      <td>14427894.0</td>\n",
       "      <td>California Angels</td>\n",
       "      <td>2567427.0</td>\n",
       "      <td>90</td>\n",
       "    </tr>\n",
       "    <tr>\n",
       "      <th>4</th>\n",
       "      <td>1985</td>\n",
       "      <td>CHA</td>\n",
       "      <td>9846178.0</td>\n",
       "      <td>Chicago White Sox</td>\n",
       "      <td>1669888.0</td>\n",
       "      <td>85</td>\n",
       "    </tr>\n",
       "  </tbody>\n",
       "</table>\n",
       "</div>"
      ],
      "text/plain": [
       "   yearID teamID      salary               name  attendance   W\n",
       "0    1985    ATL  14807000.0     Atlanta Braves   1350137.0  66\n",
       "1    1985    BAL  11560712.0  Baltimore Orioles   2132387.0  83\n",
       "2    1985    BOS  10897560.0     Boston Red Sox   1786633.0  81\n",
       "3    1985    CAL  14427894.0  California Angels   2567427.0  90\n",
       "4    1985    CHA   9846178.0  Chicago White Sox   1669888.0  85"
      ]
     },
     "execution_count": 20,
     "metadata": {},
     "output_type": "execute_result"
    }
   ],
   "source": [
    "payroll_merged = payroll.merge(teams[['yearID','teamID','name','attendance', 'W']], how='left')\n",
    "payroll_merged.head()"
   ]
  },
  {
   "cell_type": "code",
   "execution_count": 21,
   "id": "02945429",
   "metadata": {},
   "outputs": [
    {
     "data": {
      "text/plain": [
       "True"
      ]
     },
     "execution_count": 21,
     "metadata": {},
     "output_type": "execute_result"
    }
   ],
   "source": [
    "# Sanity check -- did we lose any records?\n",
    "payroll.shape[0] == payroll_merged.shape[0]"
   ]
  },
  {
   "cell_type": "markdown",
   "id": "4f8db4d2",
   "metadata": {},
   "source": [
    "## What questions do you have so far? \n",
    "\n",
    "Now let's move to the actual analysis...\n",
    "\n",
    "<img src=\"images/3rd-base.png\"\n",
    "     width=\"50%\"/>"
   ]
  },
  {
   "cell_type": "markdown",
   "id": "9f53f310",
   "metadata": {},
   "source": [
    "## Payroll versus attendance\n",
    "\n",
    "Is there a relationship?\n",
    "\n",
    "While we could use statistical methods like _linear regression_ to find out, visualization is a great place to start. We will use the `scatterplot()` function:"
   ]
  },
  {
   "cell_type": "code",
   "execution_count": 22,
   "id": "838625f6",
   "metadata": {},
   "outputs": [
    {
     "data": {
      "text/plain": [
       "<AxesSubplot:xlabel='salary', ylabel='attendance'>"
      ]
     },
     "execution_count": 22,
     "metadata": {},
     "output_type": "execute_result"
    },
    {
     "data": {
      "image/png": "[encoded data removed]",
      "text/plain": [
       "<Figure size 432x288 with 1 Axes>"
      ]
     },
     "metadata": {
      "needs_background": "light"
     },
     "output_type": "display_data"
    }
   ],
   "source": [
    "sns.scatterplot(x='salary', y='attendance', data=payroll_merged)"
   ]
  },
  {
   "cell_type": "code",
   "execution_count": 23,
   "id": "8a817d96",
   "metadata": {},
   "outputs": [
    {
     "data": {
      "text/plain": [
       "<AxesSubplot:xlabel='salary', ylabel='attendance'>"
      ]
     },
     "execution_count": 23,
     "metadata": {},
     "output_type": "execute_result"
    },
    {
     "data": {
      "image/png": "[encoded data removed]",
      "text/plain": [
       "<Figure size 432x288 with 1 Axes>"
      ]
     },
     "metadata": {
      "needs_background": "light"
     },
     "output_type": "display_data"
    }
   ],
   "source": [
    "# Is there a relationship? \n",
    "sns.regplot(x='salary', y='attendance', data=payroll_merged)"
   ]
  },
  {
   "cell_type": "markdown",
   "id": "00ea0e66",
   "metadata": {},
   "source": [
    "### What are we _not_ considering with this relationship?\n",
    "\n",
    "- Should we [adjust for inflation](https://medium.com/@alvaro.henriquez/adjusting-for-inflation-in-pandas-9cffc0d888ac)?\n",
    "- Should we [adjust for population from the census](https://towardsdatascience.com/accessing-census-data-with-python-3e2f2b56e20d)?\n",
    "- What about stadium sizes? Use % capacity?\n",
    "\n",
    "#### What else could be contributing to or skewing this relationship?"
   ]
  },
  {
   "cell_type": "markdown",
   "id": "0fe3df86",
   "metadata": {},
   "source": [
    "Is there a relationship between payroll and wins?"
   ]
  },
  {
   "cell_type": "code",
   "execution_count": 24,
   "id": "950a6c0d",
   "metadata": {},
   "outputs": [
    {
     "data": {
      "text/plain": [
       "<AxesSubplot:xlabel='salary', ylabel='W'>"
      ]
     },
     "execution_count": 24,
     "metadata": {},
     "output_type": "execute_result"
    },
    {
     "data": {
      "image/png": "[encoded data removed]",
      "text/plain": [
       "<Figure size 432x288 with 1 Axes>"
      ]
     },
     "metadata": {
      "needs_background": "light"
     },
     "output_type": "display_data"
    }
   ],
   "source": [
    "sns.scatterplot(x='salary', y='W', data=payroll_merged)"
   ]
  },
  {
   "cell_type": "code",
   "execution_count": 25,
   "id": "610b8459",
   "metadata": {},
   "outputs": [],
   "source": [
    "# Add the regplot?"
   ]
  },
  {
   "cell_type": "markdown",
   "id": "b962a677",
   "metadata": {},
   "source": [
    "## Home plate... export to Excel\n",
    "\n",
    "<img src=\"images/home-plate.png\"\n",
    "     width=\"50%\"/>\n",
    " \n",
    "For better or worse, not everyone you'll likely work with will be fluent in Python! So let's look at creating a polished team payroll report in Excel using just Python. We will make use of the `xlsxwriter` package to do this."
   ]
  },
  {
   "cell_type": "code",
   "execution_count": 26,
   "id": "f32472cb",
   "metadata": {},
   "outputs": [],
   "source": [
    "# Dump out data to Excel... NO FORMATTING\n",
    "payroll_merged.to_excel('payroll-pandas.xlsx')"
   ]
  },
  {
   "cell_type": "markdown",
   "id": "884dc83a",
   "metadata": {},
   "source": [
    "Now we will write the data out to Excel, format it and add a chart. \n",
    "\n",
    "The code here is a little more exotic, but keep the end in mind -- we are *creating an Excel report without even needing to open Excel!*"
   ]
  },
  {
   "cell_type": "code",
   "execution_count": 27,
   "id": "08c721a9",
   "metadata": {},
   "outputs": [
    {
     "data": {
      "text/html": [
       "<div>\n",
       "<style scoped>\n",
       "    .dataframe tbody tr th:only-of-type {\n",
       "        vertical-align: middle;\n",
       "    }\n",
       "\n",
       "    .dataframe tbody tr th {\n",
       "        vertical-align: top;\n",
       "    }\n",
       "\n",
       "    .dataframe thead th {\n",
       "        text-align: right;\n",
       "    }\n",
       "</style>\n",
       "<table border=\"1\" class=\"dataframe\">\n",
       "  <thead>\n",
       "    <tr style=\"text-align: right;\">\n",
       "      <th></th>\n",
       "      <th>year</th>\n",
       "      <th>team</th>\n",
       "      <th>payroll</th>\n",
       "      <th>attendance</th>\n",
       "      <th>wins</th>\n",
       "    </tr>\n",
       "  </thead>\n",
       "  <tbody>\n",
       "    <tr>\n",
       "      <th>0</th>\n",
       "      <td>1985</td>\n",
       "      <td>14807000.0</td>\n",
       "      <td>Atlanta Braves</td>\n",
       "      <td>1350137.0</td>\n",
       "      <td>66</td>\n",
       "    </tr>\n",
       "    <tr>\n",
       "      <th>1</th>\n",
       "      <td>1985</td>\n",
       "      <td>11560712.0</td>\n",
       "      <td>Baltimore Orioles</td>\n",
       "      <td>2132387.0</td>\n",
       "      <td>83</td>\n",
       "    </tr>\n",
       "    <tr>\n",
       "      <th>2</th>\n",
       "      <td>1985</td>\n",
       "      <td>10897560.0</td>\n",
       "      <td>Boston Red Sox</td>\n",
       "      <td>1786633.0</td>\n",
       "      <td>81</td>\n",
       "    </tr>\n",
       "    <tr>\n",
       "      <th>3</th>\n",
       "      <td>1985</td>\n",
       "      <td>14427894.0</td>\n",
       "      <td>California Angels</td>\n",
       "      <td>2567427.0</td>\n",
       "      <td>90</td>\n",
       "    </tr>\n",
       "    <tr>\n",
       "      <th>4</th>\n",
       "      <td>1985</td>\n",
       "      <td>9846178.0</td>\n",
       "      <td>Chicago White Sox</td>\n",
       "      <td>1669888.0</td>\n",
       "      <td>85</td>\n",
       "    </tr>\n",
       "  </tbody>\n",
       "</table>\n",
       "</div>"
      ],
      "text/plain": [
       "   year        team            payroll  attendance  wins\n",
       "0  1985  14807000.0     Atlanta Braves   1350137.0    66\n",
       "1  1985  11560712.0  Baltimore Orioles   2132387.0    83\n",
       "2  1985  10897560.0     Boston Red Sox   1786633.0    81\n",
       "3  1985  14427894.0  California Angels   2567427.0    90\n",
       "4  1985   9846178.0  Chicago White Sox   1669888.0    85"
      ]
     },
     "execution_count": 27,
     "metadata": {},
     "output_type": "execute_result"
    }
   ],
   "source": [
    "# Keep only some columns\n",
    "payroll_report = payroll_merged.drop(columns=['teamID'])\n",
    "\n",
    "# Rename them as well, more user-friendly\n",
    "payroll_report.columns = ['year', 'team', 'payroll', 'attendance', 'wins']\n",
    "payroll_report.head()"
   ]
  },
  {
   "cell_type": "code",
   "execution_count": 28,
   "id": "4961a0f4",
   "metadata": {},
   "outputs": [
    {
     "data": {
      "text/plain": [
       "0"
      ]
     },
     "execution_count": 28,
     "metadata": {},
     "output_type": "execute_result"
    }
   ],
   "source": [
    "import xlsxwriter \n",
    "\n",
    "# 1. Set Pandas engine to xlsxwriter\n",
    "writer = pd.ExcelWriter('payroll.xlsx', engine='xlsxwriter')\n",
    "\n",
    "# 2. Convert the dataframe to an XlsxWriter Excel object\n",
    "payroll_report.to_excel(writer, sheet_name='Sheet1', index=False)\n",
    "\n",
    "# 3. Get the xlsxwriter objects from the DataFrame writer object.\n",
    "workbook  = writer.book\n",
    "worksheet = writer.sheets['Sheet1']\n",
    "\n",
    "# Add number and currency formats \n",
    "thousands_format = workbook.add_format({'num_format':'#,##0'})\n",
    "currency_format = currency_format = workbook.add_format({'num_format':'$#,##0'})\n",
    "\n",
    "# Re-format columns\n",
    "worksheet.set_column('B:B', 19) # Widen team name column, keep format\n",
    "worksheet.set_column('C:C', 12, currency_format) # Widen payroll column, use currency format \n",
    "worksheet.set_column('D:D', 12, currency_format)  # Widen attendance column, use thousands format "
   ]
  },
  {
   "cell_type": "code",
   "execution_count": 29,
   "id": "47b749b1",
   "metadata": {},
   "outputs": [
    {
     "data": {
      "image/png": "[encoded data removed]",
      "text/plain": [
       "<Figure size 432x288 with 1 Axes>"
      ]
     },
     "metadata": {
      "needs_background": "light"
     },
     "output_type": "display_data"
    }
   ],
   "source": [
    "# Now let's add the chart...\n",
    "\n",
    "import matplotlib.pyplot as plt  # Add chart title\n",
    "\n",
    "sns.scatterplot(x='payroll', y='attendance', data=payroll_report)\n",
    "plt.title('MLB Payroll vs Attendance')\n",
    "\n",
    "# Save the image\n",
    "plt.savefig('payroll.png', dpi = (300))\n",
    "\n",
    "# Add the image to the workbook\n",
    "worksheet.insert_image('G1', 'payroll.png')\n",
    "\n",
    "# Close workbook\n",
    "workbook.close()"
   ]
  },
  {
   "cell_type": "markdown",
   "id": "13c3a1fb",
   "metadata": {},
   "source": [
    "## What questions do you have?"
   ]
  },
  {
   "cell_type": "code",
   "execution_count": null,
   "id": "a04b7cd6",
   "metadata": {},
   "outputs": [],
   "source": []
  }
 ],
 "metadata": {
  "kernelspec": {
   "display_name": "Python 3 (ipykernel)",
   "language": "python",
   "name": "python3"
  },
  "language_info": {
   "codemirror_mode": {
    "name": "ipython",
    "version": 3
   },
   "file_extension": ".py",
   "mimetype": "text/x-python",
   "name": "python",
   "nbconvert_exporter": "python",
   "pygments_lexer": "ipython3",
   "version": "3.9.7"
  }
 },
 "nbformat": 4,
 "nbformat_minor": 5
}
